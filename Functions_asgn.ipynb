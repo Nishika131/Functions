{
  "nbformat": 4,
  "nbformat_minor": 0,
  "metadata": {
    "colab": {
      "provenance": []
    },
    "kernelspec": {
      "name": "python3",
      "display_name": "Python 3"
    },
    "language_info": {
      "name": "python"
    }
  },
  "cells": [
    {
      "cell_type": "code",
      "execution_count": 1,
      "metadata": {
        "colab": {
          "base_uri": "https://localhost:8080/"
        },
        "id": "bSJ5Dd7EscAI",
        "outputId": "0bfb515e-372c-4374-f0d9-d53b0b88da2e"
      },
      "outputs": [
        {
          "output_type": "stream",
          "name": "stdout",
          "text": [
            "Hello!\n",
            "NISHIKA\n"
          ]
        }
      ],
      "source": [
        "# Q1: What is the difference between a function and a method in Python?\n",
        "# Answer: A function is a block of reusable code, defined using `def`. A method is a function associated with an object.\n",
        "\n",
        "# Example:\n",
        "def greet():\n",
        "    print(\"Hello!\")\n",
        "\n",
        "greet()  # function call\n",
        "\n",
        "name = \"Nishika\"\n",
        "print(name.upper())  # upper() is a method of str object\n"
      ]
    },
    {
      "cell_type": "code",
      "source": [
        "# Q2: Explain the concept of function arguments and parameters in Python.\n",
        "# Answer: Parameters are variables listed in a function definition. Arguments are the values passed when calling a function.\n",
        "\n",
        "# Example:\n",
        "def add(x, y):  # x and y are parameters\n",
        "    return x + y\n",
        "\n",
        "print(add(5, 3))  # 5 and 3 are arguments\n"
      ],
      "metadata": {
        "colab": {
          "base_uri": "https://localhost:8080/"
        },
        "id": "i4CNCt5fsjye",
        "outputId": "efb9cf0e-d76c-41ba-954c-898e9f6dd267"
      },
      "execution_count": 2,
      "outputs": [
        {
          "output_type": "stream",
          "name": "stdout",
          "text": [
            "8\n"
          ]
        }
      ]
    },
    {
      "cell_type": "code",
      "source": [
        "# Q3: What are the different ways to define and call a function in Python?\n",
        "# Answer: Functions can be regular, lambda, or nested. Can be called by name or via variables.\n",
        "\n",
        "# Example: Regular Function\n",
        "def square(x):\n",
        "    return x * x\n",
        "\n",
        "print(square(4))\n",
        "\n",
        "# Example: Lambda Function\n",
        "f = lambda x: x * x\n",
        "print(f(4))\n"
      ],
      "metadata": {
        "colab": {
          "base_uri": "https://localhost:8080/"
        },
        "id": "pXQtGmnusmDd",
        "outputId": "11190f3e-ebec-4b64-aa47-2939e933433d"
      },
      "execution_count": 3,
      "outputs": [
        {
          "output_type": "stream",
          "name": "stdout",
          "text": [
            "16\n",
            "16\n"
          ]
        }
      ]
    },
    {
      "cell_type": "code",
      "source": [
        "# Q4: What is the purpose of the `return` statement in a Python function?\n",
        "# Answer: The `return` statement exits a function and optionally sends back a value to the caller.\n",
        "\n",
        "# Example:\n",
        "def multiply(a, b):\n",
        "    return a * b\n",
        "\n",
        "result = multiply(2, 5)\n",
        "print(result)\n"
      ],
      "metadata": {
        "colab": {
          "base_uri": "https://localhost:8080/"
        },
        "id": "eemwFmrZspDK",
        "outputId": "6214e4d8-6bb9-49de-e342-02b509b1ccff"
      },
      "execution_count": 4,
      "outputs": [
        {
          "output_type": "stream",
          "name": "stdout",
          "text": [
            "10\n"
          ]
        }
      ]
    },
    {
      "cell_type": "code",
      "source": [
        "# Q5: What are iterators in Python and how do they differ from iterables?\n",
        "# Answer: An iterable is any object that can return an iterator (like list, tuple). An iterator is an object with __next__() method.\n",
        "\n",
        "# Example:\n",
        "lst = [10, 20, 30]  # iterable\n",
        "it = iter(lst)      # iterator\n",
        "print(next(it))     # 10\n",
        "print(next(it))     # 20\n"
      ],
      "metadata": {
        "colab": {
          "base_uri": "https://localhost:8080/"
        },
        "id": "ooPyyL-HsrUR",
        "outputId": "d7940fa6-fa06-4841-ee19-bcb5083af2f1"
      },
      "execution_count": 5,
      "outputs": [
        {
          "output_type": "stream",
          "name": "stdout",
          "text": [
            "10\n",
            "20\n"
          ]
        }
      ]
    },
    {
      "cell_type": "code",
      "source": [
        "# Q6: Explain the concept of generators in Python and how they are defined.\n",
        "# Answer: Generators yield values one at a time using `yield` keyword, saving memory.\n",
        "\n",
        "# Example:\n",
        "def my_gen():\n",
        "    yield 1\n",
        "    yield 2\n",
        "    yield 3\n",
        "\n",
        "for val in my_gen():\n",
        "    print(val)\n"
      ],
      "metadata": {
        "colab": {
          "base_uri": "https://localhost:8080/"
        },
        "id": "DUSmXxuLsr3d",
        "outputId": "b8a88185-d972-44f0-beb7-0852e20e795b"
      },
      "execution_count": 6,
      "outputs": [
        {
          "output_type": "stream",
          "name": "stdout",
          "text": [
            "1\n",
            "2\n",
            "3\n"
          ]
        }
      ]
    },
    {
      "cell_type": "code",
      "source": [
        "# Q7: What are the advantages of using generators over regular functions?\n",
        "# Answer:\n",
        "# - Memory-efficient (no need to store entire sequence)\n",
        "# - Useful for large data or streams\n",
        "\n",
        "# Example:\n",
        "def count_up_to(n):\n",
        "    count = 1\n",
        "    while count <= n:\n",
        "        yield count\n",
        "        count += 1\n",
        "\n",
        "for number in count_up_to(3):\n",
        "    print(number)\n"
      ],
      "metadata": {
        "colab": {
          "base_uri": "https://localhost:8080/"
        },
        "id": "cT_2OtWisuP7",
        "outputId": "c4017cd0-f51f-42a3-bcf1-790e67e2fcf8"
      },
      "execution_count": 7,
      "outputs": [
        {
          "output_type": "stream",
          "name": "stdout",
          "text": [
            "1\n",
            "2\n",
            "3\n"
          ]
        }
      ]
    },
    {
      "cell_type": "code",
      "source": [
        "# Q8: What is a lambda function in Python and when is it typically used?\n",
        "# Answer: A lambda is an anonymous, one-line function often used in map, filter, and reduce.\n",
        "\n",
        "# Example:\n",
        "square = lambda x: x * x\n",
        "print(square(6))\n"
      ],
      "metadata": {
        "colab": {
          "base_uri": "https://localhost:8080/"
        },
        "id": "C0mOE2JJswkA",
        "outputId": "8f0c7428-25cd-460f-fdcf-50e498dfdedf"
      },
      "execution_count": 8,
      "outputs": [
        {
          "output_type": "stream",
          "name": "stdout",
          "text": [
            "36\n"
          ]
        }
      ]
    },
    {
      "cell_type": "code",
      "source": [
        "# Q9: Explain the purpose and usage of the `map()` function in Python.\n",
        "# Answer: `map()` applies a function to all items in an iterable and returns a map object.\n",
        "\n",
        "# Example:\n",
        "nums = [1, 2, 3, 4]\n",
        "squared = map(lambda x: x*x, nums)\n",
        "print(list(squared))  # [1, 4, 9, 16]\n"
      ],
      "metadata": {
        "colab": {
          "base_uri": "https://localhost:8080/"
        },
        "id": "ZHVa_M0xsypp",
        "outputId": "a44e8445-2f77-4d05-dc13-516a9531c128"
      },
      "execution_count": 9,
      "outputs": [
        {
          "output_type": "stream",
          "name": "stdout",
          "text": [
            "[1, 4, 9, 16]\n"
          ]
        }
      ]
    },
    {
      "cell_type": "code",
      "source": [
        "# Q10: What is the difference between map(), reduce(), and filter() functions in Python?\n",
        "# Answer:\n",
        "# - `map()` applies a function to each item.\n",
        "# - `filter()` selects items that satisfy a condition.\n",
        "# - `reduce()` performs a cumulative operation.\n",
        "\n",
        "from functools import reduce\n",
        "\n",
        "nums = [1, 2, 3, 4, 5]\n",
        "\n",
        "print(list(map(lambda x: x * 2, nums)))          # [2, 4, 6, 8, 10]\n",
        "print(list(filter(lambda x: x % 2 == 0, nums)))  # [2, 4]\n",
        "print(reduce(lambda x, y: x + y, nums))          # 15\n"
      ],
      "metadata": {
        "colab": {
          "base_uri": "https://localhost:8080/"
        },
        "id": "3uzr5zMYs1KG",
        "outputId": "fc6e642b-c708-47d6-891e-032382ac3495"
      },
      "execution_count": 10,
      "outputs": [
        {
          "output_type": "stream",
          "name": "stdout",
          "text": [
            "[2, 4, 6, 8, 10]\n",
            "[2, 4]\n",
            "15\n"
          ]
        }
      ]
    },
    {
      "cell_type": "code",
      "source": [
        "\n",
        "#11. Using pen & Paper write the internal mechanism for sum operation using  reduce function on this given\n",
        "list:[47,11,42,13];\n",
        "\n",
        "Step 1: 47 + 11 = 58\n",
        "Step 2: 58 + 42 = 100\n",
        "Step 3: 100 + 13 = 113\n",
        "\n",
        "Final Result = 113\n",
        "\n",
        "\n"
      ],
      "metadata": {
        "id": "FGnH3phKs3KO"
      },
      "execution_count": 10,
      "outputs": []
    },
    {
      "cell_type": "code",
      "source": [
        "#Practical questiona\n",
        "\n",
        "# 1. Write a Python function that takes a list of numbers as input\n",
        "# and returns the sum of all even numbers in the list.\n",
        "\n",
        "def sum_of_even_numbers(numbers):\n",
        "    return sum(num for num in numbers if num % 2 == 0)\n",
        "\n",
        "# Example\n",
        "print(\"Sum of even numbers:\", sum_of_even_numbers([1, 2, 3, 4, 5, 6]))\n"
      ],
      "metadata": {
        "colab": {
          "base_uri": "https://localhost:8080/"
        },
        "id": "vfR1ygQzuMYQ",
        "outputId": "01835ffe-032b-489f-9707-202b6151d44c"
      },
      "execution_count": 11,
      "outputs": [
        {
          "output_type": "stream",
          "name": "stdout",
          "text": [
            "Sum of even numbers: 12\n"
          ]
        }
      ]
    },
    {
      "cell_type": "code",
      "source": [
        "# 2. Create a Python function that accepts a string\n",
        "# and returns the reverse of that string.\n",
        "\n",
        "def reverse_string(s):\n",
        "    return s[::-1]\n",
        "\n",
        "# Example\n",
        "print(\"Reversed string:\", reverse_string(\"Python\"))\n"
      ],
      "metadata": {
        "colab": {
          "base_uri": "https://localhost:8080/"
        },
        "id": "gEhTtxu7u8Ch",
        "outputId": "07688da9-8e5c-463d-ac82-6502f6d0cade"
      },
      "execution_count": 12,
      "outputs": [
        {
          "output_type": "stream",
          "name": "stdout",
          "text": [
            "Reversed string: nohtyP\n"
          ]
        }
      ]
    },
    {
      "cell_type": "code",
      "source": [
        "# 3. Implement a Python function that takes a list of integers\n",
        "# and returns a new list containing the squares of each number.\n",
        "\n",
        "def square_list(numbers):\n",
        "    return [num ** 2 for num in numbers]\n",
        "\n",
        "# Example\n",
        "print(\"Squares:\", square_list([1, 2, 3, 4, 5]))\n"
      ],
      "metadata": {
        "colab": {
          "base_uri": "https://localhost:8080/"
        },
        "id": "6BErc1M2u-Pk",
        "outputId": "b66f2882-7fc7-466b-bc58-dfed202f1916"
      },
      "execution_count": 13,
      "outputs": [
        {
          "output_type": "stream",
          "name": "stdout",
          "text": [
            "Squares: [1, 4, 9, 16, 25]\n"
          ]
        }
      ]
    },
    {
      "cell_type": "code",
      "source": [
        "# 4. Write a Python function that checks if a given number is prime or not\n",
        "# and then prints all prime numbers from 1 to 200.\n",
        "\n",
        "def is_prime(n):\n",
        "    if n <= 1:\n",
        "        return False\n",
        "    for i in range(2, int(n**0.5)+1):\n",
        "        if n % i == 0:\n",
        "            return False\n",
        "    return True\n",
        "\n",
        "# Printing prime numbers from 1 to 200\n",
        "prime_numbers = [num for num in range(1, 201) if is_prime(num)]\n",
        "print(\"Prime numbers from 1 to 200:\")\n",
        "print(prime_numbers)\n"
      ],
      "metadata": {
        "colab": {
          "base_uri": "https://localhost:8080/"
        },
        "id": "qETgKDiUvBA3",
        "outputId": "4fec088f-05a6-4f45-89ae-34ceb4f6c653"
      },
      "execution_count": 14,
      "outputs": [
        {
          "output_type": "stream",
          "name": "stdout",
          "text": [
            "Prime numbers from 1 to 200:\n",
            "[2, 3, 5, 7, 11, 13, 17, 19, 23, 29, 31, 37, 41, 43, 47, 53, 59, 61, 67, 71, 73, 79, 83, 89, 97, 101, 103, 107, 109, 113, 127, 131, 137, 139, 149, 151, 157, 163, 167, 173, 179, 181, 191, 193, 197, 199]\n"
          ]
        }
      ]
    },
    {
      "cell_type": "code",
      "source": [
        "# 5. Create an iterator class in Python that generates the Fibonacci sequence\n",
        "# up to a specified number of terms.\n",
        "\n",
        "class FibonacciIterator:\n",
        "    def __init__(self, max_terms):\n",
        "        self.max_terms = max_terms\n",
        "        self.count = 0\n",
        "        self.a, self.b = 0, 1\n",
        "\n",
        "    def __iter__(self):\n",
        "        return self\n",
        "\n",
        "    def __next__(self):\n",
        "        if self.count >= self.max_terms:\n",
        "            raise StopIteration\n",
        "        fib = self.a\n",
        "        self.a, self.b = self.b, self.a + self.b\n",
        "        self.count += 1\n",
        "        return fib\n",
        "\n",
        "# Example\n",
        "print(\"Fibonacci sequence up to 10 terms:\")\n",
        "for num in FibonacciIterator(10):\n",
        "    print(num, end=' ')\n"
      ],
      "metadata": {
        "colab": {
          "base_uri": "https://localhost:8080/"
        },
        "id": "VlsLaUVsvEaQ",
        "outputId": "9d9b7161-465c-437e-9b56-027efb67cd39"
      },
      "execution_count": 15,
      "outputs": [
        {
          "output_type": "stream",
          "name": "stdout",
          "text": [
            "Fibonacci sequence up to 10 terms:\n",
            "0 1 1 2 3 5 8 13 21 34 "
          ]
        }
      ]
    },
    {
      "cell_type": "code",
      "source": [
        "# 6. Write a generator function in Python that yields the powers of 2\n",
        "# up to a given exponent.\n",
        "\n",
        "def powers_of_two(n):\n",
        "    for i in range(n + 1):\n",
        "        yield 2 ** i\n",
        "\n",
        "# Example\n",
        "print(\"\\nPowers of 2 up to exponent 5:\")\n",
        "for power in powers_of_two(5):\n",
        "    print(power, end=' ')\n"
      ],
      "metadata": {
        "colab": {
          "base_uri": "https://localhost:8080/"
        },
        "id": "2IBpzcQGvHf8",
        "outputId": "b6fe600f-79ac-455d-aa94-38359892de5a"
      },
      "execution_count": 16,
      "outputs": [
        {
          "output_type": "stream",
          "name": "stdout",
          "text": [
            "\n",
            "Powers of 2 up to exponent 5:\n",
            "1 2 4 8 16 32 "
          ]
        }
      ]
    },
    {
      "cell_type": "code",
      "source": [
        "# 7. Implement a generator function that reads a file line by line\n",
        "# and yields each line as a string.\n",
        "\n",
        "def read_file_line_by_line(filename):\n",
        "    with open(filename, 'r') as file:\n",
        "        for line in file:\n",
        "            yield line.strip()\n",
        "\n",
        "# Example usage (uncomment after creating a file named 'example.txt'):\n",
        "# for line in read_file_line_by_line('example.txt'):\n",
        "#     print(line)\n"
      ],
      "metadata": {
        "id": "dFYfmZ1RvLCK"
      },
      "execution_count": 18,
      "outputs": []
    },
    {
      "cell_type": "code",
      "source": [
        "# 8. Use a lambda function in Python to sort a list of tuples\n",
        "# based on the second element of each tuple.\n",
        "\n",
        "data = [(1, 4), (2, 1), (3, 5), (4, 2)]\n",
        "sorted_data = sorted(data, key=lambda x: x[1])\n",
        "print(\"Sorted by second element:\", sorted_data)\n"
      ],
      "metadata": {
        "colab": {
          "base_uri": "https://localhost:8080/"
        },
        "id": "CoCWOuUxvNiR",
        "outputId": "39b11cff-3af2-44a3-f52a-6c60bcb6bf98"
      },
      "execution_count": 19,
      "outputs": [
        {
          "output_type": "stream",
          "name": "stdout",
          "text": [
            "Sorted by second element: [(2, 1), (4, 2), (1, 4), (3, 5)]\n"
          ]
        }
      ]
    },
    {
      "cell_type": "code",
      "source": [
        "# 9. Write a Python program that uses map() to convert a list of temperatures\n",
        "# from Celsius to Fahrenheit.\n",
        "\n",
        "celsius = [0, 10, 20, 30, 40]\n",
        "fahrenheit = list(map(lambda c: (c * 9/5) + 32, celsius))\n",
        "print(\"Fahrenheit:\", fahrenheit)\n"
      ],
      "metadata": {
        "colab": {
          "base_uri": "https://localhost:8080/"
        },
        "id": "PTj9AUGNvRsn",
        "outputId": "e9e789f6-0292-43eb-c001-f4a798cd0798"
      },
      "execution_count": 20,
      "outputs": [
        {
          "output_type": "stream",
          "name": "stdout",
          "text": [
            "Fahrenheit: [32.0, 50.0, 68.0, 86.0, 104.0]\n"
          ]
        }
      ]
    },
    {
      "cell_type": "code",
      "source": [
        "# 10. Create a Python program that uses filter() to remove all the vowels\n",
        "# from a given string.\n",
        "\n",
        "def remove_vowels(s):\n",
        "    return ''.join(filter(lambda ch: ch.lower() not in 'aeiou', s))\n",
        "\n",
        "# Example\n",
        "print(\"Without vowels:\", remove_vowels(\"Hello World\"))\n"
      ],
      "metadata": {
        "colab": {
          "base_uri": "https://localhost:8080/"
        },
        "id": "k8-kddv6vUjy",
        "outputId": "dec92b3d-b93c-4c7e-88de-fd193fe0fcf2"
      },
      "execution_count": 21,
      "outputs": [
        {
          "output_type": "stream",
          "name": "stdout",
          "text": [
            "Without vowels: Hll Wrld\n"
          ]
        }
      ]
    },
    {
      "cell_type": "code",
      "source": [
        "# 11) Imagine an accounting routine used in a book shop.\n",
        "# It works on a list with sublists, which look like this:\n",
        "\n",
        "# [\"order_no\", \"book_title\", quantity, price_per_item]\n",
        "\n",
        "# Write a Python program that returns a list with 2-tuples.\n",
        "# Each tuple should consist of:\n",
        "#   (order_no, total_amount)\n",
        "# where:\n",
        "#   total_amount = quantity * price_per_item\n",
        "#   If the total_amount is less than 100.00 €, then add a 10 € surcharge.\n",
        "\n",
        "# Use lambda and map functions.\n",
        "\n",
        "orders = [\n",
        "    [\"34587\", \"Learning Python\", 4, 40.95],\n",
        "    [\"98762\", \"Programming Java\", 5, 36.95],\n",
        "    [\"77226\", \"Head First Python\", 3, 27.95],\n",
        "    [\"88112\", \"Einführung in Python3\", 3, 24.99]\n",
        "]\n",
        "\n",
        "# Lambda + map solution\n",
        "invoice = list(map(lambda order: (\n",
        "    order[0],\n",
        "    round(order[2] * order[3] + 10, 2) if order[2] * order[3] < 100 else round(order[2] * order[3], 2)\n",
        "), orders))\n",
        "\n",
        "# Output\n",
        "print(\"Invoice summary (order_no, total_amount):\")\n",
        "print(invoice)\n"
      ],
      "metadata": {
        "colab": {
          "base_uri": "https://localhost:8080/"
        },
        "id": "RBo5zuIcvXOL",
        "outputId": "64caa5f1-a241-41b2-c6eb-69809b2dad38"
      },
      "execution_count": 22,
      "outputs": [
        {
          "output_type": "stream",
          "name": "stdout",
          "text": [
            "Invoice summary (order_no, total_amount):\n",
            "[('34587', 163.8), ('98762', 184.75), ('77226', 93.85), ('88112', 84.97)]\n"
          ]
        }
      ]
    }
  ]
}